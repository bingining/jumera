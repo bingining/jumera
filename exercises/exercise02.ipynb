{
 "cells": [
  {
   "cell_type": "markdown",
   "metadata": {},
   "source": [
    "## 1.Keep notes here\n",
    "\n",
    "You should and will learn how to use the `markdown` language."
   ]
  },
  {
   "cell_type": "markdown",
   "metadata": {},
   "source": [
    "### 2. (a) Write a function named `myFunc` with following expression\n",
    "$$\n",
    "  f(x) = e^{-x} sin(x).\n",
    "$$\n",
    "\n",
    "You may read these references:\n",
    "* https://en.wikibooks.org/wiki/Introducing_Julia/Functions\n",
    "* https://benlauwens.github.io/ThinkJulia.jl/latest/book.html#chap06"
   ]
  },
  {
   "cell_type": "markdown",
   "metadata": {},
   "source": [
    "### 2. (b) Create an array named `X` with following elements\n",
    "$$\n",
    "    X = [1, 2, 3, 4, 5].\n",
    "$$\n",
    "### Then use the broadcast mechanism to evaluate `myFunc.(X)`."
   ]
  },
  {
   "cell_type": "markdown",
   "metadata": {},
   "source": [
    "## 3. `Pull` your changes to this notebook to the github."
   ]
  }
 ],
 "metadata": {
  "kernelspec": {
   "display_name": "Julia 1.1.0",
   "language": "julia",
   "name": "julia-1.1"
  },
  "language_info": {
   "file_extension": ".jl",
   "mimetype": "application/julia",
   "name": "julia",
   "version": "1.1.0"
  }
 },
 "nbformat": 4,
 "nbformat_minor": 2
}
