{
 "cells": [
  {
   "cell_type": "markdown",
   "metadata": {},
   "source": [
    "## 1.Keep notes here\n",
    "\n",
    "You should and will learn how to use the `markdown` language."
   ]
  },
  {
   "cell_type": "markdown",
   "metadata": {},
   "source": [
    "* function(), Array[], \".\" = broadcast = element operation\n",
    "* 帮助文档 \"\"\"\n",
    "* .. 上一级， include（）整个文件放进去\n",
    "* 合并 分割 选多个： shift+m, ctrl+shift+“-”，shif+m,shift+上下箭头"
   ]
  },
  {
   "cell_type": "markdown",
   "metadata": {},
   "source": [
    "## 2. (a) Write a function named `myFunc` with following expression\n",
    "$$\n",
    "  f(x) = e^{-x} sin(x).\n",
    "$$\n",
    "\n",
    "You may read these references:\n",
    "* https://en.wikibooks.org/wiki/Introducing_Julia/Functions\n",
    "* https://benlauwens.github.io/ThinkJulia.jl/latest/book.html#chap06"
   ]
  },
  {
   "cell_type": "markdown",
   "metadata": {},
   "source": [
    "## 2. (b) Create an array named `X` with following elements\n",
    "$$\n",
    "    X = [1, 2, 3, 4, 5].\n",
    "$$\n",
    "### Then use the broadcast mechanism to evaluate `myFunc.(X)`."
   ]
  },
  {
   "cell_type": "markdown",
   "metadata": {},
   "source": [
    "## 3. Convert `12345` into 2-bits presentation, and verify your result with the one obtained from `bitstring` function."
   ]
  },
  {
   "cell_type": "markdown",
   "metadata": {},
   "source": [
    "## 4. `Pull` your changes to github."
   ]
  }
 ],
 "metadata": {
  "kernelspec": {
   "display_name": "Julia 1.1.0",
   "language": "julia",
   "name": "julia-1.1"
  },
  "language_info": {
   "file_extension": ".jl",
   "mimetype": "application/julia",
   "name": "julia",
   "version": "1.1.0"
  }
 },
 "nbformat": 4,
 "nbformat_minor": 2
}
