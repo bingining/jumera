{
 "cells": [
  {
   "cell_type": "markdown",
   "metadata": {},
   "source": [
    "## 1.Keep notes here\n",
    "\n",
    "You should and will learn how to use the `markdown` language."
   ]
  },
  {
   "cell_type": "markdown",
   "metadata": {},
   "source": [
    "* function(), Array[], \".\" = broadcast = element operation\n",
    "* 帮助文档 \"\"\"\n",
    "* .. 上一级， include（）整个文件放进去\n",
    "* 合并 分割 选多个： shift+m, ctrl+shift+“-”，shif+m,shift+上下箭头\n",
    "* prinln(\" \")\n",
    "* typeof( )\n",
    "* #\\;smiley cat  enter -  tab+enter\n",
    "* comment # # or #= \n",
    "                   =#\n",
    "* modulus %\n",
    "* convert( , \"\")\n",
    "* bitstring ()"
   ]
  },
  {
   "cell_type": "markdown",
   "metadata": {},
   "source": [
    "## 2. (a) Write a function named `myFunc` with following expression\n",
    "$$\n",
    "  f(x) = e^{-x} sin(x).\n",
    "$$\n",
    "\n",
    "You may read these references:\n",
    "* https://en.wikibooks.org/wiki/Introducing_Julia/Functions\n",
    "* https://benlauwens.github.io/ThinkJulia.jl/latest/book.html#chap06"
   ]
  },
  {
   "cell_type": "code",
   "execution_count": 6,
   "metadata": {},
   "outputs": [
    {
     "data": {
      "text/plain": [
       "0.0"
      ]
     },
     "execution_count": 6,
     "metadata": {},
     "output_type": "execute_result"
    }
   ],
   "source": [
    "function myFunc(x) \n",
    "   exp(-x) * sin(x)\n",
    "end    \n",
    "# test \n",
    "    myFunc(0)\n"
   ]
  },
  {
   "cell_type": "markdown",
   "metadata": {},
   "source": [
    "## 2. (b) Create an array named `X` with following elements\n",
    "$$\n",
    "    X = [1, 2, 3, 4, 5].\n",
    "$$\n",
    "### Then use the broadcast mechanism to evaluate `myFunc.(X)`."
   ]
  },
  {
   "cell_type": "code",
   "execution_count": 7,
   "metadata": {},
   "outputs": [
    {
     "data": {
      "text/plain": [
       "5-element Array{Float64,1}:\n",
       "  0.3095598756531122  \n",
       "  0.12306002480577674 \n",
       "  0.00702595148935012 \n",
       " -0.013861321214152955\n",
       " -0.006461180938816702"
      ]
     },
     "execution_count": 7,
     "metadata": {},
     "output_type": "execute_result"
    }
   ],
   "source": [
    "X = [1, 2, 3, 4, 5]\n",
    "myFunc.(X)\n",
    "\n"
   ]
  },
  {
   "cell_type": "markdown",
   "metadata": {},
   "source": [
    "## 3. Convert `12345` into 2-bits presentation, and verify your result with the one obtained from `bitstring` function."
   ]
  },
  {
   "cell_type": "code",
   "execution_count": 116,
   "metadata": {},
   "outputs": [
    {
     "data": {
      "text/plain": [
       "12345"
      ]
     },
     "execution_count": 116,
     "metadata": {},
     "output_type": "execute_result"
    }
   ],
   "source": [
    "function  f(a,b,c,d,e,f) \n",
    "    a * 2^5 + b * 2^4 + c * 2^3 + d * 2^2 + e * 2^1 + f * 2^0\n",
    "end\n",
    "\n",
    "f(369,11,25,26,28,1) "
   ]
  },
  {
   "cell_type": "code",
   "execution_count": null,
   "metadata": {},
   "outputs": [],
   "source": []
  },
  {
   "cell_type": "code",
   "execution_count": 14,
   "metadata": {},
   "outputs": [
    {
     "data": {
      "text/plain": [
       "\"0000000000000000000000000000000000000000000000000011000000111001\""
      ]
     },
     "execution_count": 14,
     "metadata": {},
     "output_type": "execute_result"
    }
   ],
   "source": [
    "bitstring(12345)"
   ]
  },
  {
   "cell_type": "markdown",
   "metadata": {},
   "source": [
    "## 4. `Pull` your changes to github."
   ]
  }
 ],
 "metadata": {
  "kernelspec": {
   "display_name": "Julia 1.1.0",
   "language": "julia",
   "name": "julia-1.1"
  },
  "language_info": {
   "file_extension": ".jl",
   "mimetype": "application/julia",
   "name": "julia",
   "version": "1.1.0"
  }
 },
 "nbformat": 4,
 "nbformat_minor": 2
}
