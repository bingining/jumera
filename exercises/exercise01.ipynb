{
 "cells": [
  {
   "cell_type": "markdown",
   "metadata": {},
   "source": [
    "## 1.Keep notes here\n",
    "\n",
    "You should and will learn how to use the `markdown` language."
   ]
  },
  {
   "cell_type": "markdown",
   "metadata": {},
   "source": [
    "## Learning Julia from scratch\n",
    "\n",
    "* shell\n",
    "ls project，cd project，\n",
    "* usage of github\n",
    "\n",
    "  git add，\n",
    "  git status，\n",
    "  git commit test -m\n",
    "  git push，\n",
    "  git pull\n",
    "  \n",
    "* launch julia notebook\n",
    "\n",
    "  using IJuia\n",
    "  notebook( )\n",
    "  shift + enter\n",
    "  a: add a cell `above`\n",
    "  enter: 编辑模式\n",
    "  esc:  命令行模式\n",
    "  x： cut\n",
    "  m:  标记\n",
    "  Y:  代码\n",
    "\n",
    "* write functions\n",
    "    \n",
    "  function \n",
    "    return()\n",
    "  end\n",
    "\n",
    "\n"
   ]
  },
  {
   "cell_type": "markdown",
   "metadata": {},
   "source": [
    "### 2. Write a function named `myFunc` with following expression\n",
    "$$\n",
    "  f(x) = e^{-x} sin(x).\n",
    "$$\n",
    "\n",
    "You may read these references:\n",
    "* https://en.wikibooks.org/wiki/Introducing_Julia/Functions\n",
    "* https://benlauwens.github.io/ThinkJulia.jl/latest/book.html#chap06"
   ]
  },
  {
   "cell_type": "code",
   "execution_count": 12,
   "metadata": {},
   "outputs": [
    {
     "data": {
      "text/plain": [
       "myFunc (generic function with 1 method)"
      ]
     },
     "execution_count": 12,
     "metadata": {},
     "output_type": "execute_result"
    }
   ],
   "source": [
    "# original version\n",
    "function myFunc(x)\n",
    "    m=exp^[-x]Sin[x]\n",
    "    return(m)\n",
    "end\n",
    "\n",
    "# test\n",
    "# myFunc(3)"
   ]
  },
  {
   "cell_type": "markdown",
   "metadata": {},
   "source": [
    "* Do not use `return` if the last expression is what you want.\n",
    "* `sin` instead of `Sin`\n",
    "* Using `()` in the function call -- `f(x)`\n",
    "* no `^` after `exp` \n",
    "* blank "
   ]
  },
  {
   "cell_type": "code",
   "execution_count": 11,
   "metadata": {},
   "outputs": [
    {
     "data": {
      "text/plain": [
       "0.00702595148935012"
      ]
     },
     "execution_count": 11,
     "metadata": {},
     "output_type": "execute_result"
    }
   ],
   "source": [
    "# modified version\n",
    "function myFunc(x)\n",
    "    exp(-x) * sin(x)\n",
    "end\n",
    "\n",
    "# test\n",
    "myFunc(3)"
   ]
  },
  {
   "cell_type": "code",
   "execution_count": 23,
   "metadata": {},
   "outputs": [
    {
     "data": {
      "text/plain": [
       "0.00702595148935012"
      ]
     },
     "execution_count": 23,
     "metadata": {},
     "output_type": "execute_result"
    }
   ],
   "source": [
    "\"\"\"\n",
    "    myFunc02(x) \n",
    "\n",
    "Another version of my function\n",
    "\"\"\"\n",
    "myFunc02(x) = exp(-x) * sin(x)\n",
    "\n",
    "# test\n",
    "myFunc02(3)"
   ]
  },
  {
   "cell_type": "code",
   "execution_count": 24,
   "metadata": {},
   "outputs": [
    {
     "name": "stdout",
     "output_type": "stream",
     "text": [
      "search: \u001b[0m\u001b[1mm\u001b[22m\u001b[0m\u001b[1my\u001b[22m\u001b[0m\u001b[1mF\u001b[22m\u001b[0m\u001b[1mu\u001b[22m\u001b[0m\u001b[1mn\u001b[22m\u001b[0m\u001b[1mc\u001b[22m\u001b[0m\u001b[1m0\u001b[22m\u001b[0m\u001b[1m2\u001b[22m \u001b[0m\u001b[1mm\u001b[22m\u001b[0m\u001b[1my\u001b[22m\u001b[0m\u001b[1mF\u001b[22m\u001b[0m\u001b[1mu\u001b[22m\u001b[0m\u001b[1mn\u001b[22m\u001b[0m\u001b[1mc\u001b[22m\n",
      "\n"
     ]
    },
    {
     "data": {
      "text/latex": [
       "\\begin{verbatim}\n",
       "myFunc02(x)\n",
       "\\end{verbatim}\n",
       "Another version of my function\n",
       "\n"
      ],
      "text/markdown": [
       "```\n",
       "myFunc02(x)\n",
       "```\n",
       "\n",
       "Another version of my function\n"
      ],
      "text/plain": [
       "\u001b[36m  myFunc02(x)\u001b[39m\n",
       "\n",
       "  Another version of my function"
      ]
     },
     "execution_count": 24,
     "metadata": {},
     "output_type": "execute_result"
    }
   ],
   "source": [
    "?myFunc02"
   ]
  },
  {
   "cell_type": "markdown",
   "metadata": {},
   "source": [
    "## 3. `Pull` your changes to this notebook to the github.\n",
    "You will grasp the basic usage of `github`."
   ]
  },
  {
   "cell_type": "code",
   "execution_count": null,
   "metadata": {},
   "outputs": [],
   "source": []
  }
 ],
 "metadata": {
  "kernelspec": {
   "display_name": "Julia 1.1.0",
   "language": "julia",
   "name": "julia-1.1"
  },
  "language_info": {
   "file_extension": ".jl",
   "mimetype": "application/julia",
   "name": "julia",
   "version": "1.1.0"
  }
 },
 "nbformat": 4,
 "nbformat_minor": 2
}
