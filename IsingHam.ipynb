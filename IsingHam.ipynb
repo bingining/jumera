{
 "cells": [
  {
   "cell_type": "code",
   "execution_count": 1,
   "metadata": {},
   "outputs": [
    {
     "data": {
      "text/plain": [
       "Float64"
      ]
     },
     "execution_count": 1,
     "metadata": {},
     "output_type": "execute_result"
    }
   ],
   "source": [
    "# Ising model with transverse magnetic field h (critical h=1 by default)\n",
    "# Returns three-site Ising Hamiltonian (8x8 matrix), and the highest energy eigenvalue\n",
    "# WITHOUT IMPOSING anti/periodic BCs\n",
    "\n",
    "const Float = Float64"
   ]
  },
  {
   "cell_type": "code",
   "execution_count": 2,
   "metadata": {},
   "outputs": [
    {
     "ename": "ArgumentError",
     "evalue": "ArgumentError: Package DocStringExtensions not found in current path:\n- Run `import Pkg; Pkg.add(\"DocStringExtensions\")` to install the DocStringExtensions package.\n",
     "output_type": "error",
     "traceback": [
      "ArgumentError: Package DocStringExtensions not found in current path:\n- Run `import Pkg; Pkg.add(\"DocStringExtensions\")` to install the DocStringExtensions package.\n",
      "",
      "Stacktrace:",
      " [1] require(::Module, ::Symbol) at .\\loading.jl:823",
      " [2] top-level scope at In[2]:1"
     ]
    }
   ],
   "source": [
    "using DocStringExtensions"
   ]
  },
  {
   "cell_type": "code",
   "execution_count": null,
   "metadata": {},
   "outputs": [
    {
     "name": "stdout",
     "output_type": "stream",
     "text": [
      "\u001b[32m\u001b[1m  Updating\u001b[22m\u001b[39m registry at `C:\\Users\\bunnylovesbear\\.julia\\registries\\General`\n"
     ]
    },
    {
     "name": "stderr",
     "output_type": "stream",
     "text": [
      "┌ Warning: Some registries failed to update:\n",
      "│     — `C:\\Users\\bunnylovesbear\\.julia\\registries\\General` — registry dirty\n",
      "└ @ Pkg.Types C:\\cygwin\\home\\Administrator\\buildbot\\worker\\package_win64\\build\\usr\\share\\julia\\stdlib\\v1.1\\Pkg\\src\\Types.jl:1269\n"
     ]
    },
    {
     "name": "stdout",
     "output_type": "stream",
     "text": [
      "\u001b[32m\u001b[1m Resolving\u001b[22m\u001b[39m package versions...\n"
     ]
    }
   ],
   "source": [
    "import Pkg; Pkg.add(\"DocStringExtensions\")"
   ]
  },
  {
   "cell_type": "code",
   "execution_count": null,
   "metadata": {},
   "outputs": [],
   "source": [
    "\"\"\"\n",
    "Returns a three-site operator (of bond dimension eight) specifying the microscopic Hamiltonian for Ising spins lined up in 1d.\n",
    "\"\"\"\n",
    "function build_H_Ising(h::Float=1.0)\n",
    "# This needs to be shifted+added thrice to get a periodic Ham on three sites.\n",
    "# Hence the 1/3 factor here, and no 1/3 factor when imposing PDBC\n",
    "    local H_op::Array{Complex{Float},6}\n",
    "    local D_max::Float\n",
    "    X = [0. 1.; 1. 0.]\n",
    "    Z = [1. 0.; 0. -1.]\n",
    "    I = eye(2)\n",
    "    XX = kron(X,X)\n",
    "    ZI = kron(Z,I)\n",
    "    IZ = kron(I,Z)\n",
    "    H2 = -(XX + (h/2.0)*(ZI+IZ))\n",
    "    H = H2 / 3\n",
    "    for n = 3:9\n",
    "        eyen2 = eye(2^(n-2))\n",
    "        # Terms at the borders of the blocks of three that get grouped together\n",
    "        # need to be normalized differently from the ones that are within blocks.\n",
    "        factor = (n == 4 || n == 7) ? 1/2 : 1/3\n",
    "        H = kron(H, I) + kron(eyen2, H2)*factor\n",
    "    end\n",
    "    D, V = eig(Hermitian(H))\n",
    "    D_max = D[end]\n",
    "    # subtract largest eigenvalue, so that the spectrum is negative\n",
    "    H = H - eye(2^9)*D_max\n",
    "    #H = H - 4.0*9*eye(2^9) # To make all eigenvalues negative?\n",
    "    H_op = reshape(H, (8,8,8,8,8,8)) |> complex\n",
    "    return H_op, D_max\n",
    "    # Several objects here are not \"Float\", but the returned values\n",
    "    # should be correctly converted because of type declaration\n",
    "end\n",
    "\n",
    "\"\"\"\n",
    "Calculates the approximate energy per spin, by including 1/N^2 finite size corrections to the universal energy density.\n",
    "\"\"\"\n",
    "function approximate_energy_persite_PBC(nsites::Int64)\n",
    "    # including only the leading finite-size correction\n",
    "    return convert(Float,   ( -4/pi - (pi/6)/(nsites*nsites) )  )\n",
    "end\n",
    "\n",
    "\"\"\"\n",
    "Given the number of layers (system size) for a MERA solution, this function returns the exact ground state energy when eight or fewer layers, and a useful approximation when more layers.\n",
    "\"\"\"\n",
    "function exact_energy_persite(n_lyr::Int64)\n",
    "    # Obtained by exact diagonalization of a free fermions system with the opposite BCs\n",
    "    EnAPBC=[0,-1.270005811417927, -1.2724314193572888, -1.2730375326245706, -1.273189042909428, -1.2732269193538452, -1.2732363883945284];\n",
    "\n",
    "    # First element for zeroth layer\n",
    "    EnPBC_exactdiag_1_8=[-1.2797267740319183, -1.2748570272966502, -1.273643645891852, -1.273340553194287, -1.2732647957982595, -1.273245857435202, -1.273241122906045, -1.273239939277603];\n",
    "\n",
    "    EnPBC_approx_9_15 = map(approximate_energy_persite_PBC,81*4.^collect(9:15));\n",
    "\n",
    "    EnPBC=[EnPBC_exactdiag_1_8...,EnPBC_approx_9_15...]\n",
    "    # Exact results only for up to 8 layers. Beyond that, 1/Nsq approximation is good enough\n",
    "    # since our MERA is not yet that accurate\n",
    "\n",
    "    return convert(Float,EnPBC[n_lyr+1])\n",
    "end\n",
    "\n",
    "\"\"\"\n",
    "Given the per-spin energy of the MERA, this function returns the fractional error compared to the exact/approximate ground state energy.\n",
    "\"\"\"\n",
    "function fractional_energy_error(energy_persite::Float, n_lyr::Int64)\n",
    "    exact_persite = exact_energy_persite(n_lyr)\n",
    "    return (energy_persite - exact_persite)/abs(exact_persite)\n",
    "end"
   ]
  }
 ],
 "metadata": {
  "kernelspec": {
   "display_name": "Julia 1.1.0",
   "language": "julia",
   "name": "julia-1.1"
  },
  "language_info": {
   "file_extension": ".jl",
   "mimetype": "application/julia",
   "name": "julia",
   "version": "1.1.0"
  }
 },
 "nbformat": 4,
 "nbformat_minor": 2
}
