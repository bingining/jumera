{
 "cells": [
  {
   "cell_type": "code",
   "execution_count": 1,
   "metadata": {},
   "outputs": [],
   "source": [
    "# Entanglement scaling in MERA systems"
   ]
  },
  {
   "cell_type": "markdown",
   "metadata": {},
   "source": [
    "## Exact ground state energy including finite-size corrections"
   ]
  },
  {
   "cell_type": "code",
   "execution_count": 3,
   "metadata": {},
   "outputs": [],
   "source": [
    "EnAPBC=[-1.270005811417927, -1.2724314193572888, -1.2730375326245706, -1.273189042909428, -1.2732269193538452, -1.2732363883945284];\n",
    "EnPBC_exact_diag=[-1.2797267740319183, -1.2748570272966502, -1.273643645891852, -1.273340553194287, -1.2732647957982595, -1.273245857435202, -1.273241122906045, -1.273239939277603];\n",
    "Ecorr = map( (x)-> (x+(4/pi)), EnPBC_exact_diag);\n",
    "#coeff = map( (a,b) -> (b*(2^(2*a))), enumerate(Ecorr))"
   ]
  },
  {
   "cell_type": "code",
   "execution_count": 4,
   "metadata": {},
   "outputs": [
    {
     "name": "stdout",
     "output_type": "stream",
     "text": [
      "-0.5254655730371949\n",
      "-0.5240643499219226\n",
      "-0.5237150990693564\n",
      "-0.5236278520998354\n",
      "-0.523606044373139\n",
      "-0.5236005920469324\n",
      "-0.5235992226125745\n",
      "-0.5235988506574358\n",
      "--------------------\n"
     ]
    },
    {
     "data": {
      "text/plain": [
       "0.5235987755982988"
      ]
     },
     "execution_count": 4,
     "metadata": {},
     "output_type": "execute_result"
    }
   ],
   "source": [
    "for (a,b) in enumerate(Ecorr)\n",
    "    println(b*(81*2^(2*(a-1))))\n",
    "end\n",
    "println(\"--------------------\")\n",
    "pi/6"
   ]
  },
  {
   "cell_type": "code",
   "execution_count": null,
   "metadata": {},
   "outputs": [],
   "source": [
    "function approximate_energy_persite(nsites)\n",
    "    # including only the leading finite-size correction\n",
    "    -4/pi - (pi/6)/(nsites*nsites) \n",
    "end"
   ]
  },
  {
   "cell_type": "code",
   "execution_count": 7,
   "metadata": {},
   "outputs": [
    {
     "ename": "LoadError",
     "evalue": "syntax: invalid syntax \"4.^\"; add space(s) to clarify",
     "output_type": "error",
     "traceback": [
      "syntax: invalid syntax \"4.^\"; add space(s) to clarify",
      ""
     ]
    }
   ],
   "source": [
    "EnPBC_approx_9_15 = map(approximate_energy_persite,81*4.^collect(9:15))\n",
    "EnPBC=[EnPBC_exact_diag...,EnPBC_approx_9_15...]\n",
    "println(\"--------------------\")\n",
    "println(-4/pi)"
   ]
  },
  {
   "cell_type": "markdown",
   "metadata": {},
   "source": [
    "# Plotting entanglement of threesite reduced density matrices at each scale"
   ]
  },
  {
   "cell_type": "code",
   "execution_count": null,
   "metadata": {
    "collapsed": true
   },
   "outputs": [],
   "source": [
    "using JLD"
   ]
  },
  {
   "cell_type": "code",
   "execution_count": null,
   "metadata": {},
   "outputs": [],
   "source": [
    "typealias Float Float64\n",
    "cd(\"/home/siva/towards_MERA/mera/\")\n",
    "include(\"IsingHam.jl\")\n",
    "include(\"BinaryMERA.jl\")\n",
    "include(\"OptimizeMERA.jl\")"
   ]
  },
  {
   "cell_type": "markdown",
   "metadata": {},
   "source": [
    "### Prediction for entanglement per layer"
   ]
  },
  {
   "cell_type": "markdown",
   "metadata": {},
   "source": [
    "As the MERA approache scale invariance, we expect the entanglement of 3 sites to be $\\frac{c}{3}\\log(8\\times8\\times8)$ or rather $\\frac{c}{3}\\log(5\\times5\\times5)$. I would imagine that something like thos follows from scale invariance.\n",
    "$$S(L) = \\frac{c}{3} \\; \\log \\left(\\frac{L}{a} \\right)$$\n",
    "\n",
    "1. Why should the \"length of the interval\" correspond to the dimension of its Hilbert space? Would this be some argument based on quantization, the number of modes in a box is equal to the ratio of the IR cutoff to the UV cutoff?\n",
    "\n",
    "2. But then, would we not expect equal contribution to entanglement \"per scale\" where we expect one mode per scale (in some sensible normalization)"
   ]
  },
  {
   "cell_type": "code",
   "execution_count": null,
   "metadata": {},
   "outputs": [],
   "source": [
    "@show (0.5/3)*log2(5*5*5*2);\n",
    "@show (0.5/3)*log2(8*8*8*2);\n",
    "#@show (0.5/3)*log(5*5*5)"
   ]
  },
  {
   "cell_type": "markdown",
   "metadata": {},
   "source": [
    "### The plots"
   ]
  },
  {
   "cell_type": "code",
   "execution_count": 2,
   "metadata": {},
   "outputs": [
    {
     "data": {
      "text/plain": [
       "animatedplot (generic function with 1 method)"
      ]
     },
     "execution_count": 2,
     "metadata": {},
     "output_type": "execute_result"
    }
   ],
   "source": [
    "typealias Float Float64\n",
    "using Plots\n",
    "pyplot()\n",
    "cd(\"/home/siva/towards_MERA/mera/\")\n",
    "include(\"IsingHam.jl\")\n",
    "include(\"BinaryMERA.jl\")\n",
    "include(\"OptimizeMERA.jl\")\n",
    "include(\"MakePlots.jl\")"
   ]
  },
  {
   "cell_type": "code",
   "execution_count": null,
   "metadata": {},
   "outputs": [],
   "source": [
    "listrhoslist = load(\"rhoslist_snapshots_7layers_newsweep.jld\");"
   ]
  },
  {
   "cell_type": "code",
   "execution_count": null,
   "metadata": {},
   "outputs": [],
   "source": [
    "cd(\"/home/siva/towards_MERA/mera/mp2-run13\")\n",
    "pwd()\n",
    "\n",
    "animatedplot(\"foo.gif\";n_start=5,n_stop=8)"
   ]
  },
  {
   "cell_type": "code",
   "execution_count": null,
   "metadata": {},
   "outputs": [],
   "source": [
    "Plots.Animated(\"/home/siva/towards_MERA/mera/mp2-run13/foo.gif\")"
   ]
  },
  {
   "cell_type": "code",
   "execution_count": 4,
   "metadata": {},
   "outputs": [],
   "source": [
    "m7=load(\"solutionMERA_7layers_(8,5,5,5,5,5,5,5)shape_newsweep.jld\",\"m_7layers\");"
   ]
  },
  {
   "cell_type": "code",
   "execution_count": 5,
   "metadata": {},
   "outputs": [],
   "source": [
    "rlist=buildReverseRhosList(m7) |> reverse ;"
   ]
  },
  {
   "cell_type": "code",
   "execution_count": 6,
   "metadata": {},
   "outputs": [
    {
     "name": "stdout",
     "output_type": "stream",
     "text": [
      "[Plots.jl] Initializing backend: pyplot\n"
     ]
    },
    {
     "name": "stderr",
     "output_type": "stream",
     "text": [
      "INFO: Recompiling stale cache file /home/siva/.julia/lib/v0.4/PyPlot.ji for module PyPlot.\n",
      "INFO: Recompiling stale cache file /home/siva/.julia/lib/v0.4/BinDeps.ji for module BinDeps.\n",
      "INFO: Recompiling stale cache file /home/siva/.julia/lib/v0.4/PyCall.ji for module PyCall.\n",
      "INFO: Recompiling stale cache file /home/siva/.julia/lib/v0.4/Conda.ji for module Conda.\n"
     ]
    },
    {
     "data": {
      "text/html": [
       "<img src=\"data:image/png;base64,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\" />"
      ]
     },
     "execution_count": 6,
     "metadata": {},
     "output_type": "execute_result"
    }
   ],
   "source": [
    "plot(rlist |> getEntList)"
   ]
  },
  {
   "cell_type": "markdown",
   "metadata": {},
   "source": [
    "# Testing overwrites of save() and jldopen()"
   ]
  },
  {
   "cell_type": "code",
   "execution_count": null,
   "metadata": {},
   "outputs": [],
   "source": [
    "cd(\"../\")\n",
    "pwd()"
   ]
  },
  {
   "cell_type": "code",
   "execution_count": null,
   "metadata": {},
   "outputs": [],
   "source": [
    "jldopen(\"testfile.jld\",\"w\") do file\n",
    "    write(file,\"a\",1)\n",
    "    write(file,\"b\",2)\n",
    "end\n",
    "jldopen(\"testfile.jld\",\"r+\") do file\n",
    "    write(file,\"c\",3)\n",
    "    write(file,\"d\",4)\n",
    "end"
   ]
  },
  {
   "cell_type": "code",
   "execution_count": null,
   "metadata": {},
   "outputs": [],
   "source": [
    "load(\"testfile.jld\")"
   ]
  },
  {
   "cell_type": "code",
   "execution_count": null,
   "metadata": {
    "collapsed": true
   },
   "outputs": [],
   "source": [
    "save(\"testfile.jld\",\"b\",2)"
   ]
  },
  {
   "cell_type": "code",
   "execution_count": null,
   "metadata": {},
   "outputs": [],
   "source": [
    "const ln = 3;\n",
    "immutable rhi\n",
    "    elem::Array{Float64,6}\n",
    "end\n",
    "t = Array{Array{rhi}(ln)}"
   ]
  },
  {
   "cell_type": "code",
   "execution_count": null,
   "metadata": {},
   "outputs": [],
   "source": [
    "x = Array{Float64,5}"
   ]
  },
  {
   "cell_type": "code",
   "execution_count": null,
   "metadata": {},
   "outputs": [],
   "source": [
    "y = Array{Float64}(5)"
   ]
  },
  {
   "cell_type": "code",
   "execution_count": null,
   "metadata": {},
   "outputs": [],
   "source": [
    "t = Array{Float64}"
   ]
  }
 ],
 "metadata": {
  "kernelspec": {
   "display_name": "Julia 1.1.0",
   "language": "julia",
   "name": "julia-1.1"
  },
  "language_info": {
   "file_extension": ".jl",
   "mimetype": "application/julia",
   "name": "julia",
   "version": "1.1.0"
  }
 },
 "nbformat": 4,
 "nbformat_minor": 1
}
