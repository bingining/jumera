{
 "cells": [
  {
   "cell_type": "markdown",
   "metadata": {
    "collapsed": true
   },
   "source": [
    "# Binary MERA\n",
    "\n",
    "#### To do\n",
    "\n",
    "1. Decide optimal contraction ordering for Asc and Dsc\n",
    "2. Insert diagrams for contraction ordering\n",
    "3. Implement invariants\n",
    "4. Do energy minimization updates to solve for the optimal tensor\n",
    "\t- Environment tensors\n"
   ]
  },
  {
   "cell_type": "code",
   "execution_count": 6,
   "metadata": {
    "collapsed": false
   },
   "outputs": [
    {
     "data": {
      "text/plain": [
       "buildrhoslist (generic function with 1 method)"
      ]
     },
     "execution_count": 6,
     "metadata": {},
     "output_type": "execute_result"
    }
   ],
   "source": []
  },
  {
   "cell_type": "markdown",
   "metadata": {
    "collapsed": true
   },
   "source": [
    "## Questions\n",
    "\n",
    "1. What is the time and memory cost of the contraction orderings used?\n",
    "2. If memory cost is actually $O(\\chi^9)$ how is MAX=11 possible?\n",
    "3. Does NCON do multiple contractions simultaneously? Seems so! That would reduce the memory footprint of storing a large tensor and then tracing some indices, and the time footprint of looping through the same indices multiple times.\n",
    "    - Note that time complexity upper bounds memory complexity since constructing such a tensor would involve cintracting at keast one index (unless trivial tensor product).\n",
    "4. Could NCON be made to graphically represent a contraction?\n",
    "5. How to enforce the condition that things outside the causal cone should not be explicitly contracted but just cancelled without evaluation? _The job of the superoperators is precisely to enforce that!_"
   ]
  },
  {
   "cell_type": "markdown",
   "metadata": {
    "collapsed": true
   },
   "source": [
    "# Optimizing the MERA\n",
    "\n",
    "1. Construct microscopic hamiltonian (with edge factors)\n",
    "2. Compute cost function involving environment and update tensor\n",
    "    - 3-5 times in each layer\n",
    "    - Then sweep across layers"
   ]
  },
  {
   "cell_type": "markdown",
   "metadata": {},
   "source": [
    "## The 3-site Hamotonian\n",
    "\n",
    "1. Since we are keeping the bond dimension fixed, let us group together 3 sites so that we have a MERA with $\\chi = 8$. From now on, \"sites\" will refer to these composite sites.\n",
    "\n",
    "2. We want to re-organize the Ising Hamiltonian as a sum of 3-site Hamiltonians $\\{h_{123},h_{234},h_{345}, \\ldots ,h_{N12} \\}$, given the restrictions imposed by the structure of our ascending and descending superoperators. To do this, consider a three-site system and answer the question what should $h_{ijk}$ be so that summing it up thrice $h_{123} + h_{231} + h_{312} = H_{\\mathrm{3-site}}$"
   ]
  },
  {
   "cell_type": "code",
   "execution_count": 7,
   "metadata": {
    "collapsed": false
   },
   "outputs": [
    {
     "data": {
      "text/plain": [
       "build_H_Ising (generic function with 2 methods)"
      ]
     },
     "execution_count": 7,
     "metadata": {},
     "output_type": "execute_result"
    }
   ],
   "source": []
  },
  {
   "cell_type": "code",
   "execution_count": 14,
   "metadata": {
    "collapsed": false
   },
   "outputs": [
    {
     "name": "stdout",
     "output_type": "stream",
     "text": [
      "3.868563945561129"
     ]
    }
   ],
   "source": []
  },
  {
   "cell_type": "code",
   "execution_count": 111,
   "metadata": {
    "collapsed": false
   },
   "outputs": [],
   "source": []
  },
  {
   "cell_type": "code",
   "execution_count": null,
   "metadata": {
    "collapsed": true
   },
   "outputs": [],
   "source": []
  }
 ],
 "metadata": {
  "kernelspec": {
   "display_name": "Julia 0.4.6",
   "language": "julia",
   "name": "julia-0.4"
  },
  "language_info": {
   "file_extension": ".jl",
   "mimetype": "application/julia",
   "name": "julia",
   "version": "0.4.6"
  }
 },
 "nbformat": 4,
 "nbformat_minor": 0
}
